{
 "cells": [
  {
   "cell_type": "markdown",
   "metadata": {},
   "source": [
    "---\n",
    "\n",
    "_You are currently looking at **version 1.1** of this notebook. To download notebooks and datafiles, as well as get help on Jupyter notebooks in the Coursera platform, visit the [Jupyter Notebook FAQ](https://www.coursera.org/learn/python-text-mining/resources/d9pwm) course resource._\n",
    "\n",
    "---"
   ]
  },
  {
   "cell_type": "markdown",
   "metadata": {},
   "source": [
    "# Assignment 1\n",
    "\n",
    "In this assignment, you'll be working with messy medical data and using regex to extract relevant infromation from the data. \n",
    "\n",
    "Each line of the `dates.txt` file corresponds to a medical note. Each note has a date that needs to be extracted, but each date is encoded in one of many formats.\n",
    "\n",
    "The goal of this assignment is to correctly identify all of the different date variants encoded in this dataset and to properly normalize and sort the dates. \n",
    "\n",
    "Here is a list of some of the variants you might encounter in this dataset:\n",
    "* 04/20/2009; 04/20/09; 4/20/09; 4/3/09\n",
    "* Mar-20-2009; Mar 20, 2009; March 20, 2009;  Mar. 20, 2009; Mar 20 2009;\n",
    "* 20 Mar 2009; 20 March 2009; 20 Mar. 2009; 20 March, 2009\n",
    "* Mar 20th, 2009; Mar 21st, 2009; Mar 22nd, 2009\n",
    "* Feb 2009; Sep 2009; Oct 2010\n",
    "* 6/2008; 12/2009\n",
    "* 2009; 2010\n",
    "\n",
    "Once you have extracted these date patterns from the text, the next step is to sort them in ascending chronological order accoring to the following rules:\n",
    "* Assume all dates in xx/xx/xx format are mm/dd/yy\n",
    "* Assume all dates where year is encoded in only two digits are years from the 1900's (e.g. 1/5/89 is January 5th, 1989)\n",
    "* If the day is missing (e.g. 9/2009), assume it is the first day of the month (e.g. September 1, 2009).\n",
    "* If the month is missing (e.g. 2010), assume it is the first of January of that year (e.g. January 1, 2010).\n",
    "* Watch out for potential typos as this is a raw, real-life derived dataset.\n",
    "\n",
    "With these rules in mind, find the correct date in each note and return a pandas Series in chronological order of the original Series' indices.\n",
    "\n",
    "For example if the original series was this:\n",
    "\n",
    "    0    1999\n",
    "    1    2010\n",
    "    2    1978\n",
    "    3    2015\n",
    "    4    1985\n",
    "\n",
    "Your function should return this:\n",
    "\n",
    "    0    2\n",
    "    1    4\n",
    "    2    0\n",
    "    3    1\n",
    "    4    3\n",
    "\n",
    "Your score will be calculated using [Kendall's tau](https://en.wikipedia.org/wiki/Kendall_rank_correlation_coefficient), a correlation measure for ordinal data.\n",
    "\n",
    "*This function should return a Series of length 500 and dtype int.*"
   ]
  },
  {
   "cell_type": "code",
   "execution_count": 1,
   "metadata": {},
   "outputs": [
    {
     "data": {
      "text/plain": [
       "0         03/25/93 Total time of visit (in minutes):\\n\n",
       "1                       6/18/85 Primary Care Doctor:\\n\n",
       "2    sshe plans to move as of 7/8/71 In-Home Servic...\n",
       "3                7 on 9/27/75 Audit C Score Current:\\n\n",
       "4    2/6/96 sleep studyPain Treatment Pain Level (N...\n",
       "5                    .Per 7/06/79 Movement D/O note:\\n\n",
       "6    4, 5/18/78 Patient's thoughts about current su...\n",
       "7    10/24/89 CPT Code: 90801 - Psychiatric Diagnos...\n",
       "8                         3/7/86 SOS-10 Total Score:\\n\n",
       "9             (4/10/71)Score-1Audit C Score Current:\\n\n",
       "dtype: object"
      ]
     },
     "execution_count": 1,
     "metadata": {},
     "output_type": "execute_result"
    }
   ],
   "source": [
    "import pandas as pd\n",
    "\n",
    "doc = []\n",
    "with open('dates.txt') as file:\n",
    "    for line in file:\n",
    "        doc.append(line)\n",
    "\n",
    "df = pd.Series(doc)\n",
    "df.head(10)"
   ]
  },
  {
   "cell_type": "code",
   "execution_count": 3,
   "metadata": {},
   "outputs": [
    {
     "data": {
      "text/plain": [
       "count                               500\n",
       "unique                              500\n",
       "top       e12/2007 dx of endocarditis\\n\n",
       "freq                                  1\n",
       "dtype: object"
      ]
     },
     "execution_count": 3,
     "metadata": {},
     "output_type": "execute_result"
    }
   ],
   "source": [
    "df.describe()"
   ]
  },
  {
   "cell_type": "code",
   "execution_count": 4,
   "metadata": {
    "collapsed": true
   },
   "outputs": [],
   "source": [
    "# 4.1 Cardinality-Grammar\n",
    "ZERO_OR_MORE = '*'\n",
    "ONE_OR_MORE = \"+\"\n",
    "ZERO_OR_ONE = '?'\n",
    "EXACTLY_TWO = \"{2}\"\n",
    "ONE_OR_TWO = \"{1,2}\"\n",
    "EXACTLY_ONE = '{1}'"
   ]
  },
  {
   "cell_type": "code",
   "execution_count": 5,
   "metadata": {
    "collapsed": true
   },
   "outputs": [],
   "source": [
    "# 4.2 Groups and Classes\n",
    "GROUP = r\"({})\"\n",
    "NAMED = r\"(?P<{}>{})\"\n",
    "CLASS = \"[{}]\"\n",
    "NEGATIVE_LOOKAHEAD = \"(?!{})\"\n",
    "NEGATIVE_LOOKBEHIND = \"(?<!{})\"\n",
    "POSITIVE_LOOKAHEAD = \"(?={})\"\n",
    "POSITIVE_LOOKBEHIND = \"(?<={})\"\n",
    "ESCAPE = \"\\{}\""
   ]
  },
  {
   "cell_type": "code",
   "execution_count": 6,
   "metadata": {
    "collapsed": true
   },
   "outputs": [],
   "source": [
    "#4.3 Numbers\n",
    "DIGIT = r\"\\d\"\n",
    "ONE_DIGIT  = DIGIT + EXACTLY_ONE\n",
    "ONE_OR_TWO_DIGITS = DIGIT + ONE_OR_TWO\n",
    "NON_DIGIT = NEGATIVE_LOOKAHEAD.format(DIGIT)\n",
    "TWO_DIGITS = DIGIT + EXACTLY_TWO\n",
    "THREE_DIGITS = DIGIT + \"{3}\"\n",
    "EXACTLY_TWO_DIGITS = DIGIT + EXACTLY_TWO + NON_DIGIT\n",
    "FOUR_DIGITS = DIGIT + r\"{4}\" + NON_DIGIT"
   ]
  },
  {
   "cell_type": "code",
   "execution_count": 7,
   "metadata": {
    "collapsed": true
   },
   "outputs": [],
   "source": [
    "# 4.4 String Literals\n",
    "SLASH = r\"/\"\n",
    "OR = r'|'\n",
    "LOWER_CASE = \"a-z\"\n",
    "SPACE = \"\\s\"\n",
    "DOT = \".\"\n",
    "DASH = \"-\"\n",
    "COMMA = \",\"\n",
    "PUNCTUATION = CLASS.format(DOT + COMMA + DASH)\n",
    "EMPTY_STRING = \"\""
   ]
  },
  {
   "cell_type": "code",
   "execution_count": 8,
   "metadata": {
    "collapsed": true
   },
   "outputs": [],
   "source": [
    "# 4.5 Dates\n",
    "# These are parts to build up the date-expressions.\n",
    "MONTH_SUFFIX = (CLASS.format(LOWER_CASE) + ZERO_OR_MORE\n",
    "                + CLASS.format(SPACE + DOT + COMMA + DASH) + ONE_OR_TWO)\n",
    "MONTH_PREFIXES = \"Jan Feb Mar Apr May Jun Jul Aug Sep Oct Nov Dec\".split()\n",
    "MONTHS = [month + MONTH_SUFFIX for month in MONTH_PREFIXES]\n",
    "MONTHS = GROUP.format(OR.join(MONTHS))\n",
    "DAY_SUFFIX = CLASS.format(DASH + COMMA + SPACE) + ONE_OR_TWO\n",
    "DAYS = ONE_OR_TWO_DIGITS + DAY_SUFFIX\n",
    "YEAR = FOUR_DIGITS"
   ]
  },
  {
   "cell_type": "code",
   "execution_count": 9,
   "metadata": {
    "collapsed": true
   },
   "outputs": [],
   "source": [
    "# This is for dates like Mar 21st, 2009, those with suffixes on the days.\n",
    "CONTRACTED = (ONE_OR_TWO_DIGITS\n",
    "              + LOWER_CASE\n",
    "              + EXACTLY_TWO\n",
    "              )\n",
    "CONTRACTION = NAMED.format(\"contraction\",MONTHS+ CONTRACTED+ DAY_SUFFIX+ YEAR)"
   ]
  },
  {
   "cell_type": "code",
   "execution_count": 10,
   "metadata": {
    "collapsed": true
   },
   "outputs": [],
   "source": [
    "# This is for dates that have no days in them, like May 2009.\n",
    "NO_DAY_BEHIND = NEGATIVE_LOOKBEHIND.format(DIGIT + SPACE)\n",
    "NO_DAY = NAMED.format(\"no_day\", NO_DAY_BEHIND + MONTHS + YEAR)"
   ]
  },
  {
   "cell_type": "code",
   "execution_count": 11,
   "metadata": {
    "collapsed": true
   },
   "outputs": [],
   "source": [
    "WORDS = NAMED.format(\"words\", MONTHS + DAYS + YEAR)"
   ]
  },
  {
   "cell_type": "code",
   "execution_count": 12,
   "metadata": {
    "collapsed": true
   },
   "outputs": [],
   "source": [
    "BACKWARDS = NAMED.format(\"backwards\", ONE_OR_TWO_DIGITS + SPACE + MONTHS + YEAR)"
   ]
  },
  {
   "cell_type": "code",
   "execution_count": 13,
   "metadata": {
    "collapsed": true
   },
   "outputs": [],
   "source": [
    "slashed = SLASH.join([ONE_OR_TWO_DIGITS,\n",
    "                      ONE_OR_TWO_DIGITS,\n",
    "                      EXACTLY_TWO_DIGITS])\n",
    "dashed = DASH.join([ONE_OR_TWO_DIGITS,\n",
    "                    ONE_OR_TWO_DIGITS,\n",
    "                    EXACTLY_TWO_DIGITS])\n",
    "TWENTIETH_CENTURY = NAMED.format(\"twentieth\",\n",
    "                                 OR.join([slashed, dashed]))"
   ]
  },
  {
   "cell_type": "code",
   "execution_count": 14,
   "metadata": {
    "collapsed": true
   },
   "outputs": [],
   "source": [
    "NUMERIC = NAMED.format(\"numeric\",\n",
    "                       SLASH.join([ONE_OR_TWO_DIGITS,\n",
    "                                   ONE_OR_TWO_DIGITS,\n",
    "                                   FOUR_DIGITS]))"
   ]
  },
  {
   "cell_type": "code",
   "execution_count": 15,
   "metadata": {
    "collapsed": true
   },
   "outputs": [],
   "source": [
    "NO_PRECEDING_SLASH = NEGATIVE_LOOKBEHIND.format(SLASH)\n",
    "NO_PRECEDING_SLASH_DIGIT = NEGATIVE_LOOKBEHIND.format(CLASS.format(SLASH + DIGIT))\n",
    "NO_ONE_DAY = (NO_PRECEDING_SLASH_DIGIT\n",
    "              + ONE_DIGIT\n",
    "              + SLASH\n",
    "              + FOUR_DIGITS)\n",
    "NO_TWO_DAYS = (NO_PRECEDING_SLASH\n",
    "               + TWO_DIGITS\n",
    "               + SLASH\n",
    "               + FOUR_DIGITS)\n",
    "NO_DAY_NUMERIC = NAMED.format(\"no_day_numeric\",\n",
    "                              NO_ONE_DAY\n",
    "                              + OR\n",
    "                              + NO_TWO_DAYS\n",
    "                              )"
   ]
  },
  {
   "cell_type": "code",
   "execution_count": 16,
   "metadata": {
    "collapsed": true
   },
   "outputs": [],
   "source": [
    "CENTURY = GROUP.format('19' + OR + \"20\") + TWO_DIGITS\n",
    "DIGIT_SLASH = DIGIT + SLASH\n",
    "DIGIT_DASH = DIGIT + DASH\n",
    "DIGIT_SPACE = DIGIT + SPACE\n",
    "LETTER_SPACE = CLASS.format(LOWER_CASE) + SPACE\n",
    "COMMA_SPACE = COMMA + SPACE\n",
    "YEAR_PREFIX = NEGATIVE_LOOKBEHIND.format(OR.join([\n",
    "    DIGIT_SLASH,\n",
    "    DIGIT_DASH,\n",
    "    DIGIT_SPACE,\n",
    "    LETTER_SPACE,\n",
    "    COMMA_SPACE,\n",
    "]))\n",
    "\n",
    "YEAR_ONLY = NAMED.format(\"year_only\",\n",
    "                         YEAR_PREFIX + CENTURY\n",
    ")"
   ]
  },
  {
   "cell_type": "code",
   "execution_count": 17,
   "metadata": {
    "collapsed": true
   },
   "outputs": [],
   "source": [
    "IN_PREFIX = POSITIVE_LOOKBEHIND.format(CLASS.format('iI') + 'n' + SPACE) + CENTURY\n",
    "SINCE_PREFIX = POSITIVE_LOOKBEHIND.format(CLASS.format(\"Ss\") + 'ince' + SPACE) + CENTURY\n",
    "AGE = POSITIVE_LOOKBEHIND.format(\"Age\" + SPACE + TWO_DIGITS + COMMA + SPACE) + CENTURY\n",
    "AGE_COMMA = POSITIVE_LOOKBEHIND.format(\"Age\" + COMMA + SPACE + TWO_DIGITS + COMMA + SPACE) + CENTURY\n",
    "OTHERS = ['delivery', \"quit\", \"attempt\", \"nephrectomy\", THREE_DIGITS]\n",
    "OTHERS = [POSITIVE_LOOKBEHIND.format(label + SPACE) + CENTURY for label in OTHERS]\n",
    "OTHERS = OR.join(OTHERS)\n",
    "LEFTOVERS_PREFIX = OR.join([IN_PREFIX, SINCE_PREFIX, AGE, AGE_COMMA]) + OR + OTHERS\n",
    "LEFTOVERS = NAMED.format(\"leftovers\", LEFTOVERS_PREFIX)"
   ]
  },
  {
   "cell_type": "code",
   "execution_count": 18,
   "metadata": {
    "collapsed": true
   },
   "outputs": [],
   "source": [
    "DATE = NAMED.format(\"date\", OR.join([NUMERIC,\n",
    "                                     TWENTIETH_CENTURY,\n",
    "                                     WORDS,\n",
    "                                     BACKWARDS,\n",
    "                                     CONTRACTION,\n",
    "                                     NO_DAY,\n",
    "                                     NO_DAY_NUMERIC,\n",
    "                                     YEAR_ONLY,\n",
    "                                     LEFTOVERS]))"
   ]
  },
  {
   "cell_type": "code",
   "execution_count": 19,
   "metadata": {
    "collapsed": true
   },
   "outputs": [],
   "source": [
    "def twentieth_century(date):\n",
    "    \"\"\"adds a 19 to the year\n",
    "\n",
    "    Args:\n",
    "     date (re.Regex): Extracted date\n",
    "    \"\"\"\n",
    "    month, day, year = date.group(1).split(SLASH)\n",
    "    year = \"19{}\".format(year)\n",
    "    return SLASH.join([month, day, year])"
   ]
  },
  {
   "cell_type": "code",
   "execution_count": 20,
   "metadata": {
    "collapsed": true
   },
   "outputs": [],
   "source": [
    "def take_two(line):\n",
    "    match = re.search(TWENTIETH_CENTURY, line)\n",
    "    if match:\n",
    "        return twentieth_century(match)\n",
    "    return line"
   ]
  },
  {
   "cell_type": "code",
   "execution_count": 21,
   "metadata": {
    "collapsed": true
   },
   "outputs": [],
   "source": [
    "def extract_and_count(expression, data, name):\n",
    "    \"\"\"extract all matches and report the count\n",
    "\n",
    "    Args:\n",
    "     expression (str): regular expression to match\n",
    "     data (pandas.Series): data with dates to extratc\n",
    "     name (str): name of the group for the expression\n",
    "\n",
    "    Returns:\n",
    "     tuple (pandas.Series, int): extracted dates, count\n",
    "    \"\"\"\n",
    "    extracted = data.str.extractall(expression)[name]\n",
    "    count = len(extracted)\n",
    "    print(\"'{}' matched {} rows\".format(name, count))\n",
    "    return extracted, count"
   ]
  },
  {
   "cell_type": "code",
   "execution_count": 23,
   "metadata": {},
   "outputs": [
    {
     "name": "stdout",
     "output_type": "stream",
     "text": [
      "'numeric' matched 25 rows\n",
      "'twentieth' matched 100 rows\n",
      "'words' matched 34 rows\n",
      "'backwards' matched 69 rows\n",
      "'contraction' matched 0 rows\n",
      "'no_day' matched 115 rows\n",
      "'no_day_numeric' matched 112 rows\n",
      "'year_only' matched 15 rows\n",
      "'leftovers' matched 30 rows\n"
     ]
    }
   ],
   "source": [
    "numeric, numeric_count = extract_and_count(NUMERIC, df, 'numeric')\n",
    "# 'numeric' matched 25 rows\n",
    "twentieth, twentieth_count = extract_and_count(TWENTIETH_CENTURY, df, 'twentieth')\n",
    "# 'twentieth' matched 100 rows\n",
    "words, words_count = extract_and_count(WORDS, df, 'words')\n",
    "# 'words' matched 34 rows\n",
    "backwards, backwards_count = extract_and_count(BACKWARDS, df, 'backwards')\n",
    "# 'backwards' matched 69 rows\n",
    "contraction_data, contraction = extract_and_count(CONTRACTION, df, 'contraction')\n",
    "# 'contraction' matched 0 rows\n",
    "no_day, no_day_count = extract_and_count(NO_DAY, df, 'no_day')\n",
    "# 'no_day' matched 115 rows\n",
    "no_day_numeric, no_day_numeric_count = extract_and_count(NO_DAY_NUMERIC, df,\n",
    "                                                         \"no_day_numeric\")\n",
    "# 'no_day_numeric' matched 112 rows\n",
    "year_only, year_only_count = extract_and_count(YEAR_ONLY, df, \"year_only\")\n",
    "# 'year_only' matched 15 rows\n",
    "leftovers, leftovers_count = extract_and_count(LEFTOVERS, df, \"leftovers\")\n",
    "# 'leftovers' matched 30 rows"
   ]
  },
  {
   "cell_type": "code",
   "execution_count": 25,
   "metadata": {},
   "outputs": [
    {
     "name": "stdout",
     "output_type": "stream",
     "text": [
      "Total Found: 500\n",
      "Remaining: 0\n",
      "Discrepancy: 0\n"
     ]
    }
   ],
   "source": [
    "found = df.str.extractall(DATE)\n",
    "total_found = len(found.date)\n",
    "\n",
    "print(\"Total Found: {}\".format(total_found))\n",
    "print(\"Remaining: {}\".format(len(df) - total_found))\n",
    "print(\"Discrepancy: {}\".format(total_found - (numeric_count\n",
    "                                              + twentieth_count\n",
    "                                              + words_count\n",
    "                                              + backwards_count\n",
    "                                              + contraction\n",
    "                                              + no_day_count\n",
    "                                              + no_day_numeric_count\n",
    "                                              + year_only_count\n",
    "                                              + leftovers_count)))"
   ]
  },
  {
   "cell_type": "code",
   "execution_count": 26,
   "metadata": {},
   "outputs": [
    {
     "name": "stdout",
     "output_type": "stream",
     "text": [
      "all rows matched\n"
     ]
    }
   ],
   "source": [
    "missing = [label for label in df.index if label not in found.index.levels[0]]\n",
    "try:\n",
    "    print(missing[0], df.loc[missing[0]])\n",
    "except IndexError:\n",
    "    print(\"all rows matched\")"
   ]
  },
  {
   "cell_type": "code",
   "execution_count": 27,
   "metadata": {
    "collapsed": true
   },
   "outputs": [],
   "source": [
    "def clean(source, expression, replacement, sample=5):\n",
    "    \"\"\"applies the replacement to the source\n",
    "\n",
    "    as a side-effect shows sample rows before and after\n",
    "\n",
    "    Args:\n",
    "     source (pandas.Series): source of the strings\n",
    "     expression (str): regular expression to match what to replace\n",
    "     replacement: function or expression to replace the matching expression\n",
    "     sample (int): number of randomly chosen examples to show\n",
    "\n",
    "    Returns:\n",
    "     pandas.Series: the source with the replacement applied to it\n",
    "    \"\"\"\n",
    "    print(\"Random Sample Before:\")\n",
    "    print(source.sample(sample))\n",
    "    cleaned = source.str.replace(expression, replacement)\n",
    "    print(\"\\nRandom Sample After:\")\n",
    "    print(cleaned.sample(sample))\n",
    "    print(\"\\nCount of cleaned: {}\".format(len(cleaned)))\n",
    "    assert len(source) == len(cleaned)\n",
    "    return cleaned"
   ]
  },
  {
   "cell_type": "code",
   "execution_count": 28,
   "metadata": {
    "collapsed": true
   },
   "outputs": [],
   "source": [
    "def clean_punctuation(source, sample=5):\n",
    "    \"\"\"removes punctuation\n",
    "\n",
    "    Args:\n",
    "     source (pandas.Series): data to clean\n",
    "     sample (int): size of sample to show\n",
    "\n",
    "    Returns:\n",
    "     pandas.Series: source with punctuation removed\n",
    "    \"\"\"\n",
    "    print(\"Cleaning Punctuation\")\n",
    "    if any(source.str.contains(PUNCTUATION)):\n",
    "        source = clean(source, PUNCTUATION, EMPTY_STRING)\n",
    "    return source"
   ]
  },
  {
   "cell_type": "code",
   "execution_count": 29,
   "metadata": {
    "collapsed": true
   },
   "outputs": [],
   "source": [
    "LONG_TO_SHORT = dict(January=\"Jan\",\n",
    "                     February=\"Feb\",\n",
    "                     March=\"Mar\",\n",
    "                     April=\"Apr\",\n",
    "                     May=\"May\",\n",
    "                     June=\"Jun\",\n",
    "                     July=\"Jul\",\n",
    "                     August=\"Aug\",\n",
    "                     September=\"Sep\",\n",
    "                     October=\"Oct\",\n",
    "                     November=\"Nov\",\n",
    "                     December=\"Dec\")\n",
    "\n",
    "# it turns out there are spelling errors in the data so this has to be fuzzy\n",
    "LONG_TO_SHORT_EXPRESSION = OR.join([GROUP.format(month)\n",
    "                                    + CLASS.format(LOWER_CASE)\n",
    "                                    + ZERO_OR_MORE\n",
    "                                    for month in LONG_TO_SHORT.values()])\n",
    "\n",
    "def long_month_to_short(match):\n",
    "    \"\"\"convert long month to short\n",
    "\n",
    "    Args:\n",
    "     match (re.Match): object matching a long month\n",
    "\n",
    "    Returns:\n",
    "     str: shortened version of the month\n",
    "    \"\"\"\n",
    "    return match.group(match.lastindex)"
   ]
  },
  {
   "cell_type": "code",
   "execution_count": 30,
   "metadata": {
    "collapsed": true
   },
   "outputs": [],
   "source": [
    "def convert_long_months_to_short(source, sample=5):\n",
    "    \"\"\"convert long month names to short\n",
    "\n",
    "    Args:\n",
    "     source (pandas.Series): data with months\n",
    "     sample (int): size of sample to show\n",
    "\n",
    "    Returns:\n",
    "     pandas.Series: data with short months\n",
    "    \"\"\"\n",
    "    return clean(source,\n",
    "                 LONG_TO_SHORT_EXPRESSION,\n",
    "                 long_month_to_short)"
   ]
  },
  {
   "cell_type": "code",
   "execution_count": 31,
   "metadata": {
    "collapsed": true
   },
   "outputs": [],
   "source": [
    "def add_month_date(match):\n",
    "    \"\"\"adds 01/01 to years\n",
    "\n",
    "    Args:\n",
    "     match (re.Match): object that only matched a 4-digit year\n",
    "\n",
    "    Returns:\n",
    "     str: 01/01/YYYY\n",
    "    \"\"\"\n",
    "    return \"01/01/\" + match.group()"
   ]
  },
  {
   "cell_type": "code",
   "execution_count": 32,
   "metadata": {
    "collapsed": true
   },
   "outputs": [],
   "source": [
    "def add_january_one(source):\n",
    "    \"\"\"adds /01/01/ to year-only dates\n",
    "\n",
    "    Args:\n",
    "     source (pandas.Series): data with the dates\n",
    "\n",
    "    Returns:\n",
    "     pandas.Series: years in source with /01/01/ added\n",
    "    \"\"\"\n",
    "    return clean(source, YEAR_ONLY, add_month_date)"
   ]
  },
  {
   "cell_type": "code",
   "execution_count": 33,
   "metadata": {
    "collapsed": true
   },
   "outputs": [],
   "source": [
    "two_digit_expression = GROUP.format(ONE_OR_TWO_DIGITS) + POSITIVE_LOOKAHEAD.format(SLASH)\n",
    "\n",
    "def two_digits(match):\n",
    "    \"\"\"add a leading zero if needed\n",
    "\n",
    "    Args:\n",
    "     match (re.Match): match with one or two digits\n",
    "\n",
    "    Returns:\n",
    "     str: the matched string with leading zero if needed\n",
    "    \"\"\"\n",
    "    # for some reason the string-formatting raises an error if it's a string\n",
    "    # so cast it to an int\n",
    "    return \"{:02}\".format(int(match.group()))"
   ]
  },
  {
   "cell_type": "code",
   "execution_count": 34,
   "metadata": {
    "collapsed": true
   },
   "outputs": [],
   "source": [
    "def clean_two_digits(source, sample=5):\n",
    "    \"\"\"makes sure source has two-digits\n",
    "\n",
    "    Args:\n",
    "     source (pandas.Series): data with digit followed by slash\n",
    "     sample (int): number of samples to show\n",
    "\n",
    "    Returns:\n",
    "     pandas.Series: source with digits coerced to two digits\n",
    "    \"\"\"\n",
    "    return clean(source, two_digit_expression, two_digits, sample)"
   ]
  },
  {
   "cell_type": "code",
   "execution_count": 35,
   "metadata": {
    "collapsed": true
   },
   "outputs": [],
   "source": [
    "def clean_two_digits_isolated(source, sample=5):\n",
    "    \"\"\"cleans two digits that are standalone\n",
    "\n",
    "    Args:\n",
    "     source (pandas.Series): source of the data\n",
    "     sample (int): number of samples to show\n",
    "\n",
    "    Returns:\n",
    "     pandas.Series: converted data\n",
    "    \"\"\"\n",
    "    return clean(source, ONE_OR_TWO_DIGITS, two_digits, sample)"
   ]
  },
  {
   "cell_type": "code",
   "execution_count": 36,
   "metadata": {
    "collapsed": true
   },
   "outputs": [],
   "source": [
    "digits = (\"{:02}\".format(month) for month in range(1, 13))\n",
    "MONTH_TO_DIGITS = dict(zip(MONTH_PREFIXES, digits))\n",
    "SHORT_MONTHS_EXPRESSION = OR.join((GROUP.format(month) for month in MONTH_TO_DIGITS))\n",
    "def month_to_digits(match):\n",
    "    \"\"\"converts short month to digits\n",
    "\n",
    "    Args:\n",
    "     match (re.Match): object with short-month\n",
    "\n",
    "    Returns:\n",
    "     str: month as two-digit number (e.g. Jan -> 01)\n",
    "    \"\"\"\n",
    "    return MONTH_TO_DIGITS[match.group()]"
   ]
  },
  {
   "cell_type": "code",
   "execution_count": 37,
   "metadata": {
    "collapsed": true
   },
   "outputs": [],
   "source": [
    "def convert_short_month_to_digits(source, sample=5):\n",
    "    \"\"\"converts three-letter months to two-digits\n",
    "\n",
    "    Args:\n",
    "     source (pandas.Series): data with three-letter months\n",
    "     sample (int): number of samples to show\n",
    "\n",
    "    Returns:\n",
    "     pandas.Series: source with short-months coverted to digits\n",
    "    \"\"\"\n",
    "    return clean(source,\n",
    "                 SHORT_MONTHS_EXPRESSION,\n",
    "                 month_to_digits,\n",
    "                 sample)"
   ]
  },
  {
   "cell_type": "code",
   "execution_count": 38,
   "metadata": {
    "collapsed": true
   },
   "outputs": [],
   "source": [
    "def clean_months(source, sample=5):\n",
    "\n",
    "    \"\"\"clean up months (which start as words)\n",
    "\n",
    "    Args:\n",
    "     source (pandas.Series): source of the months\n",
    "     sample (int): number of random samples to show\n",
    "    \"\"\"\n",
    "    cleaned = clean_punctuation(source)\n",
    "\n",
    "    print(\"Converting long months to short\")\n",
    "    cleaned = clean(cleaned,\n",
    "                    LONG_TO_SHORT_EXPRESSION,\n",
    "                    long_month_to_short, sample)\n",
    "\n",
    "    print(\"Converting short months to digits\")\n",
    "    cleaned = clean(cleaned,\n",
    "                    SHORT_MONTHS_EXPRESSION,\n",
    "                    month_to_digits, sample)\n",
    "    return cleaned"
   ]
  },
  {
   "cell_type": "code",
   "execution_count": 39,
   "metadata": {
    "collapsed": true
   },
   "outputs": [],
   "source": [
    "def frame_to_series(frame, index_source, samples=5):\n",
    "    \"\"\"re-combines data-frame into a series\n",
    "\n",
    "    Args:\n",
    "     frame (pandas.DataFrame): frame with month, day, year columns\n",
    "     index_source (pandas.series): source to copy index from\n",
    "     samples (index): number of random entries to print when done\n",
    "\n",
    "    Returns:\n",
    "     pandas.Series: series with dates as month/day/year\n",
    "    \"\"\"\n",
    "    combined = frame.month + SLASH + frame.day + SLASH + frame.year\n",
    "    combined.index = index_source.index\n",
    "    print(combined.sample(samples))\n",
    "    return combined"
   ]
  },
  {
   "cell_type": "code",
   "execution_count": 40,
   "metadata": {},
   "outputs": [
    {
     "name": "stdout",
     "output_type": "stream",
     "text": [
      "Random Sample Before:\n",
      "     match\n",
      "472  0        2010\n",
      "462  0        1988\n",
      "480  0        2013\n",
      "493  0        1978\n",
      "483  0        1995\n",
      "Name: year_only, dtype: object\n",
      "\n",
      "Random Sample After:\n",
      "     match\n",
      "472  0        01/01/2010\n",
      "483  0        01/01/1995\n",
      "493  0        01/01/1978\n",
      "497  0        01/01/2008\n",
      "481  0        01/01/1974\n",
      "Name: year_only, dtype: object\n",
      "\n",
      "Count of cleaned: 15\n"
     ]
    }
   ],
   "source": [
    "year_only_cleaned = add_january_one(year_only)"
   ]
  },
  {
   "cell_type": "code",
   "execution_count": 41,
   "metadata": {},
   "outputs": [
    {
     "name": "stdout",
     "output_type": "stream",
     "text": [
      "Random Sample Before:\n",
      "     match\n",
      "457  0        2001\n",
      "491  0        2009\n",
      "464  0        2016\n",
      "471  0        1999\n",
      "463  0        2014\n",
      "Name: leftovers, dtype: object\n",
      "\n",
      "Random Sample After:\n",
      "     match\n",
      "490  0        01/01/2007\n",
      "471  0        01/01/1999\n",
      "464  0        01/01/2016\n",
      "463  0        01/01/2014\n",
      "474  0        01/01/1972\n",
      "Name: leftovers, dtype: object\n",
      "\n",
      "Count of cleaned: 30\n"
     ]
    }
   ],
   "source": [
    "leftovers_cleaned = add_january_one(leftovers)"
   ]
  },
  {
   "cell_type": "code",
   "execution_count": 43,
   "metadata": {},
   "outputs": [
    {
     "name": "stdout",
     "output_type": "stream",
     "text": [
      "45\n"
     ]
    }
   ],
   "source": [
    "cleaned = pd.concat([year_only_cleaned, leftovers_cleaned])\n",
    "print(len(cleaned))"
   ]
  },
  {
   "cell_type": "code",
   "execution_count": 44,
   "metadata": {},
   "outputs": [
    {
     "name": "stdout",
     "output_type": "stream",
     "text": [
      "Random Sample Before:\n",
      "     match\n",
      "418  0         8/1975\n",
      "399  0         1/1992\n",
      "374  0        11/2000\n",
      "442  0         9/1992\n",
      "356  0         9/2003\n",
      "Name: no_day_numeric, dtype: object\n",
      "\n",
      "Random Sample After:\n",
      "     match\n",
      "424  0        04/1979\n",
      "355  0        03/1981\n",
      "377  0        06/2001\n",
      "354  0        03/1993\n",
      "415  0        02/1973\n",
      "Name: no_day_numeric, dtype: object\n",
      "\n",
      "Count of cleaned: 112\n"
     ]
    }
   ],
   "source": [
    "no_day_numeric_cleaned = clean_two_digits(no_day_numeric)"
   ]
  },
  {
   "cell_type": "code",
   "execution_count": 45,
   "metadata": {},
   "outputs": [
    {
     "name": "stdout",
     "output_type": "stream",
     "text": [
      "Random Sample Before:\n",
      "     match\n",
      "363  0        12/1975\n",
      "445  0        01/2008\n",
      "364  0        11/2010\n",
      "384  0        05/1999\n",
      "419  0        05/1977\n",
      "Name: no_day_numeric, dtype: object\n",
      "\n",
      "Random Sample After:\n",
      "     match\n",
      "376  0        02/01/1999\n",
      "361  0        10/01/1980\n",
      "383  0        12/01/2012\n",
      "381  0        01/01/2014\n",
      "423  0        12/01/1986\n",
      "Name: no_day_numeric, dtype: object\n",
      "\n",
      "Count of cleaned: 112\n"
     ]
    }
   ],
   "source": [
    "no_day_numeric_cleaned = clean(no_day_numeric_cleaned,\n",
    "                               SLASH,\n",
    "                               lambda m: \"/01/\")"
   ]
  },
  {
   "cell_type": "code",
   "execution_count": 47,
   "metadata": {},
   "outputs": [],
   "source": [
    "original = len(cleaned)\n",
    "cleaned = pd.concat([cleaned, no_day_numeric_cleaned])\n",
    "assert len(cleaned) == no_day_numeric_count + original"
   ]
  },
  {
   "cell_type": "code",
   "execution_count": 48,
   "metadata": {},
   "outputs": [
    {
     "name": "stdout",
     "output_type": "stream",
     "text": [
      "157\n"
     ]
    }
   ],
   "source": [
    "print(len(cleaned))"
   ]
  },
  {
   "cell_type": "code",
   "execution_count": 49,
   "metadata": {},
   "outputs": [
    {
     "name": "stdout",
     "output_type": "stream",
     "text": [
      "Cleaning Punctuation\n",
      "Random Sample Before:\n",
      "     match\n",
      "233  0           July, 1990\n",
      "314  0         January 2007\n",
      "247  0             May 1983\n",
      "269  0            July 1992\n",
      "302  0        November 2004\n",
      "Name: no_day, dtype: object\n",
      "\n",
      "Random Sample After:\n",
      "     match\n",
      "342  0            March 1976\n",
      "279  0              Sep 2013\n",
      "275  0        September 1984\n",
      "338  0              Apr 1998\n",
      "252  0              Jan 2007\n",
      "Name: no_day, dtype: object\n",
      "\n",
      "Count of cleaned: 115\n",
      "Converting long months to short\n",
      "Random Sample Before:\n",
      "     match\n",
      "260  0        February 2000\n",
      "322  0         October 1991\n",
      "291  0             Jan 2004\n",
      "250  0             May 2005\n",
      "257  0             Sep 2015\n",
      "Name: no_day, dtype: object\n",
      "\n",
      "Random Sample After:\n",
      "     match\n",
      "292  0        Nov 1995\n",
      "324  0        Oct 1996\n",
      "232  0        Jul 1977\n",
      "326  0        Oct 1995\n",
      "297  0        Jan 2009\n",
      "Name: no_day, dtype: object\n",
      "\n",
      "Count of cleaned: 115\n",
      "Converting short months to digits\n",
      "Random Sample Before:\n",
      "     match\n",
      "244  0        Jan 2013\n",
      "229  0        Jun 2011\n",
      "283  0        Feb 1977\n",
      "337  0        Dec 2007\n",
      "268  0        Dec 2009\n",
      "Name: no_day, dtype: object\n",
      "\n",
      "Random Sample After:\n",
      "     match\n",
      "245  0        11 1990\n",
      "339  0        03 2005\n",
      "234  0        07 2003\n",
      "256  0        08 1988\n",
      "242  0        11 2010\n",
      "Name: no_day, dtype: object\n",
      "\n",
      "Count of cleaned: 115\n"
     ]
    }
   ],
   "source": [
    "no_day_cleaned = clean_months(no_day)\n"
   ]
  },
  {
   "cell_type": "code",
   "execution_count": 50,
   "metadata": {},
   "outputs": [
    {
     "name": "stdout",
     "output_type": "stream",
     "text": [
      "Random Sample Before:\n",
      "     match\n",
      "333  0        11 1997\n",
      "306  0        05 2004\n",
      "237  0        02 1976\n",
      "245  0        11 1990\n",
      "261  0        10 1986\n",
      "Name: no_day, dtype: object\n",
      "\n",
      "Random Sample After:\n",
      "     match\n",
      "335  0        02/01/1973\n",
      "315  0        06/01/1976\n",
      "340  0        05/01/1980\n",
      "313  0        12/01/1978\n",
      "324  0        10/01/1996\n",
      "Name: no_day, dtype: object\n",
      "\n",
      "Count of cleaned: 115\n"
     ]
    }
   ],
   "source": [
    "no_day_cleaned = clean(no_day_cleaned,\n",
    "                       SPACE + ONE_OR_MORE,\n",
    "                       lambda match: \"/01/\")"
   ]
  },
  {
   "cell_type": "code",
   "execution_count": 52,
   "metadata": {},
   "outputs": [
    {
     "name": "stdout",
     "output_type": "stream",
     "text": [
      "272\n"
     ]
    }
   ],
   "source": [
    "original = len(cleaned)\n",
    "cleaned = pd.concat([cleaned, no_day_cleaned])\n",
    "print(len(cleaned))"
   ]
  },
  {
   "cell_type": "code",
   "execution_count": 53,
   "metadata": {
    "collapsed": true
   },
   "outputs": [],
   "source": [
    "assert len(cleaned) == no_day_count + original"
   ]
  },
  {
   "cell_type": "code",
   "execution_count": 55,
   "metadata": {},
   "outputs": [
    {
     "data": {
      "text/html": [
       "<div>\n",
       "<style>\n",
       "    .dataframe thead tr:only-child th {\n",
       "        text-align: right;\n",
       "    }\n",
       "\n",
       "    .dataframe thead th {\n",
       "        text-align: left;\n",
       "    }\n",
       "\n",
       "    .dataframe tbody tr th {\n",
       "        vertical-align: top;\n",
       "    }\n",
       "</style>\n",
       "<table border=\"1\" class=\"dataframe\">\n",
       "  <thead>\n",
       "    <tr style=\"text-align: right;\">\n",
       "      <th></th>\n",
       "      <th>day</th>\n",
       "      <th>month</th>\n",
       "      <th>year</th>\n",
       "    </tr>\n",
       "  </thead>\n",
       "  <tbody>\n",
       "    <tr>\n",
       "      <th>0</th>\n",
       "      <td>24</td>\n",
       "      <td>Jan</td>\n",
       "      <td>2001</td>\n",
       "    </tr>\n",
       "    <tr>\n",
       "      <th>1</th>\n",
       "      <td>10</td>\n",
       "      <td>Sep</td>\n",
       "      <td>2004</td>\n",
       "    </tr>\n",
       "    <tr>\n",
       "      <th>2</th>\n",
       "      <td>26</td>\n",
       "      <td>May</td>\n",
       "      <td>1982</td>\n",
       "    </tr>\n",
       "    <tr>\n",
       "      <th>3</th>\n",
       "      <td>28</td>\n",
       "      <td>June</td>\n",
       "      <td>2002</td>\n",
       "    </tr>\n",
       "    <tr>\n",
       "      <th>4</th>\n",
       "      <td>06</td>\n",
       "      <td>May</td>\n",
       "      <td>1972</td>\n",
       "    </tr>\n",
       "  </tbody>\n",
       "</table>\n",
       "</div>"
      ],
      "text/plain": [
       "  day month  year\n",
       "0  24   Jan  2001\n",
       "1  10   Sep  2004\n",
       "2  26   May  1982\n",
       "3  28  June  2002\n",
       "4  06   May  1972"
      ]
     },
     "execution_count": 55,
     "metadata": {},
     "output_type": "execute_result"
    }
   ],
   "source": [
    "frame = pd.DataFrame(backwards.str.split().tolist(),\n",
    "                         columns=\"day month year\".split())\n",
    "frame.head()"
   ]
  },
  {
   "cell_type": "code",
   "execution_count": 56,
   "metadata": {},
   "outputs": [
    {
     "name": "stdout",
     "output_type": "stream",
     "text": [
      "Random Sample Before:\n",
      "29    06\n",
      "39    21\n",
      "1     10\n",
      "28    13\n",
      "66    30\n",
      "Name: day, dtype: object\n",
      "\n",
      "Random Sample After:\n",
      "38    29\n",
      "12    10\n",
      "45    24\n",
      "40    18\n",
      "8     28\n",
      "Name: day, dtype: object\n",
      "\n",
      "Count of cleaned: 69\n"
     ]
    }
   ],
   "source": [
    "frame.day = clean_two_digits(frame.day)\n"
   ]
  },
  {
   "cell_type": "code",
   "execution_count": 57,
   "metadata": {},
   "outputs": [
    {
     "name": "stdout",
     "output_type": "stream",
     "text": [
      "Cleaning Punctuation\n",
      "Converting long months to short\n",
      "Random Sample Before:\n",
      "39     Oct\n",
      "3     June\n",
      "10     Oct\n",
      "43     Oct\n",
      "34     May\n",
      "Name: month, dtype: object\n",
      "\n",
      "Random Sample After:\n",
      "40    Aug\n",
      "5     Oct\n",
      "28    Jan\n",
      "12    Feb\n",
      "56    Aug\n",
      "Name: month, dtype: object\n",
      "\n",
      "Count of cleaned: 69\n",
      "Converting short months to digits\n",
      "Random Sample Before:\n",
      "11    Feb\n",
      "56    Aug\n",
      "65    Aug\n",
      "32    Feb\n",
      "43    Oct\n",
      "Name: month, dtype: object\n",
      "\n",
      "Random Sample After:\n",
      "46    10\n",
      "60    08\n",
      "68    01\n",
      "32    02\n",
      "31    05\n",
      "Name: month, dtype: object\n",
      "\n",
      "Count of cleaned: 69\n"
     ]
    }
   ],
   "source": [
    "frame.month = clean_months(frame.month)"
   ]
  },
  {
   "cell_type": "code",
   "execution_count": 58,
   "metadata": {},
   "outputs": [
    {
     "name": "stdout",
     "output_type": "stream",
     "text": [
      "     match\n",
      "155  0        10/10/1974\n",
      "152  0        09/28/2015\n",
      "128  0        06/28/2002\n",
      "146  0        11/11/2004\n",
      "178  0        06/15/1985\n",
      "dtype: object\n"
     ]
    }
   ],
   "source": [
    "backwards_cleaned = frame_to_series(frame, backwards)"
   ]
  },
  {
   "cell_type": "code",
   "execution_count": 60,
   "metadata": {},
   "outputs": [],
   "source": [
    "original = len(cleaned)\n",
    "cleaned = pd.concat([cleaned, backwards_cleaned])\n",
    "assert len(cleaned) == original + backwards_count"
   ]
  },
  {
   "cell_type": "code",
   "execution_count": 61,
   "metadata": {},
   "outputs": [
    {
     "name": "stdout",
     "output_type": "stream",
     "text": [
      "341\n"
     ]
    }
   ],
   "source": [
    "print(len(cleaned))"
   ]
  },
  {
   "cell_type": "code",
   "execution_count": 63,
   "metadata": {},
   "outputs": [
    {
     "name": "stdout",
     "output_type": "stream",
     "text": [
      "      month  day  year\n",
      "0     April  11,  1990\n",
      "1       May  30,  2001\n",
      "2       Feb  18,  1994\n",
      "3  February  18,  1981\n",
      "4  October.  11,  2013\n"
     ]
    }
   ],
   "source": [
    "frame = pd.DataFrame(words.str.split().tolist(), columns=\"month day year\".split())\n",
    "print(frame.head())"
   ]
  },
  {
   "cell_type": "code",
   "execution_count": 64,
   "metadata": {},
   "outputs": [
    {
     "name": "stdout",
     "output_type": "stream",
     "text": [
      "Cleaning Punctuation\n",
      "Random Sample Before:\n",
      "19        July\n",
      "13      August\n",
      "7     December\n",
      "20        Sep.\n",
      "17       April\n",
      "Name: month, dtype: object\n",
      "\n",
      "Random Sample After:\n",
      "28        May\n",
      "25        Dec\n",
      "19       July\n",
      "10        Mar\n",
      "32    January\n",
      "Name: month, dtype: object\n",
      "\n",
      "Count of cleaned: 34\n",
      "Converting long months to short\n",
      "Random Sample Before:\n",
      "29    October\n",
      "11        Jan\n",
      "5         Jan\n",
      "26       June\n",
      "25        Dec\n",
      "Name: month, dtype: object\n",
      "\n",
      "Random Sample After:\n",
      "28    May\n",
      "11    Jan\n",
      "26    Jun\n",
      "4     Oct\n",
      "15    Jul\n",
      "Name: month, dtype: object\n",
      "\n",
      "Count of cleaned: 34\n",
      "Converting short months to digits\n",
      "Random Sample Before:\n",
      "14    Sep\n",
      "13    Aug\n",
      "0     Apr\n",
      "20    Sep\n",
      "5     Jan\n",
      "Name: month, dtype: object\n",
      "\n",
      "Random Sample After:\n",
      "14    09\n",
      "18    07\n",
      "21    08\n",
      "11    01\n",
      "5     01\n",
      "Name: month, dtype: object\n",
      "\n",
      "Count of cleaned: 34\n"
     ]
    }
   ],
   "source": [
    "frame.month = clean_months(frame.month)"
   ]
  },
  {
   "cell_type": "code",
   "execution_count": 65,
   "metadata": {},
   "outputs": [
    {
     "name": "stdout",
     "output_type": "stream",
     "text": [
      "Cleaning Punctuation\n",
      "Random Sample Before:\n",
      "26    25,\n",
      "28    15,\n",
      "13     12\n",
      "9     06,\n",
      "21    14,\n",
      "Name: day, dtype: object\n",
      "\n",
      "Random Sample After:\n",
      "26    25\n",
      "14    01\n",
      "6     26\n",
      "30    25\n",
      "8     15\n",
      "Name: day, dtype: object\n",
      "\n",
      "Count of cleaned: 34\n"
     ]
    }
   ],
   "source": [
    "frame.day = clean_punctuation(frame.day)"
   ]
  },
  {
   "cell_type": "code",
   "execution_count": 67,
   "metadata": {},
   "outputs": [
    {
     "data": {
      "text/html": [
       "<div>\n",
       "<style>\n",
       "    .dataframe thead tr:only-child th {\n",
       "        text-align: right;\n",
       "    }\n",
       "\n",
       "    .dataframe thead th {\n",
       "        text-align: left;\n",
       "    }\n",
       "\n",
       "    .dataframe tbody tr th {\n",
       "        vertical-align: top;\n",
       "    }\n",
       "</style>\n",
       "<table border=\"1\" class=\"dataframe\">\n",
       "  <thead>\n",
       "    <tr style=\"text-align: right;\">\n",
       "      <th></th>\n",
       "      <th>month</th>\n",
       "      <th>day</th>\n",
       "      <th>year</th>\n",
       "    </tr>\n",
       "  </thead>\n",
       "  <tbody>\n",
       "    <tr>\n",
       "      <th>0</th>\n",
       "      <td>04</td>\n",
       "      <td>11</td>\n",
       "      <td>1990</td>\n",
       "    </tr>\n",
       "    <tr>\n",
       "      <th>1</th>\n",
       "      <td>05</td>\n",
       "      <td>30</td>\n",
       "      <td>2001</td>\n",
       "    </tr>\n",
       "    <tr>\n",
       "      <th>2</th>\n",
       "      <td>02</td>\n",
       "      <td>18</td>\n",
       "      <td>1994</td>\n",
       "    </tr>\n",
       "    <tr>\n",
       "      <th>3</th>\n",
       "      <td>02</td>\n",
       "      <td>18</td>\n",
       "      <td>1981</td>\n",
       "    </tr>\n",
       "    <tr>\n",
       "      <th>4</th>\n",
       "      <td>10</td>\n",
       "      <td>11</td>\n",
       "      <td>2013</td>\n",
       "    </tr>\n",
       "  </tbody>\n",
       "</table>\n",
       "</div>"
      ],
      "text/plain": [
       "  month day  year\n",
       "0    04  11  1990\n",
       "1    05  30  2001\n",
       "2    02  18  1994\n",
       "3    02  18  1981\n",
       "4    10  11  2013"
      ]
     },
     "execution_count": 67,
     "metadata": {},
     "output_type": "execute_result"
    }
   ],
   "source": [
    "frame.head()"
   ]
  },
  {
   "cell_type": "code",
   "execution_count": 68,
   "metadata": {},
   "outputs": [
    {
     "name": "stdout",
     "output_type": "stream",
     "text": [
      "     match\n",
      "214  0        09/10/1974\n",
      "218  0        05/14/1989\n",
      "209  0        07/25/1983\n",
      "211  0        04/17/1992\n",
      "197  0        02/18/1981\n",
      "dtype: object\n"
     ]
    }
   ],
   "source": [
    "words_cleaned = frame_to_series(frame, words)\n"
   ]
  },
  {
   "cell_type": "code",
   "execution_count": 70,
   "metadata": {},
   "outputs": [
    {
     "name": "stdout",
     "output_type": "stream",
     "text": [
      "375\n"
     ]
    }
   ],
   "source": [
    "original = len(cleaned)\n",
    "cleaned = pd.concat([cleaned, words_cleaned])\n",
    "assert len(cleaned) == original + words_count\n",
    "print(len(cleaned))"
   ]
  },
  {
   "cell_type": "code",
   "execution_count": 71,
   "metadata": {},
   "outputs": [
    {
     "name": "stdout",
     "output_type": "stream",
     "text": [
      "4-13-82\n",
      "01/01/1991\n"
     ]
    }
   ],
   "source": [
    "print(twentieth.iloc[21])\n",
    "twentieth_cleaned = twentieth.str.replace(DASH, SLASH)\n",
    "print(cleaned.iloc[21])"
   ]
  },
  {
   "cell_type": "code",
   "execution_count": 73,
   "metadata": {},
   "outputs": [
    {
     "name": "stdout",
     "output_type": "stream",
     "text": [
      "  month day year\n",
      "0    03  25   93\n",
      "1     6  18   85\n",
      "2     7   8   71\n",
      "3     9  27   75\n",
      "4     2   6   96\n"
     ]
    }
   ],
   "source": [
    "frame = pd.DataFrame(twentieth_cleaned.str.split(SLASH).tolist(),\n",
    "                         columns=[\"month\", \"day\", \"year\"])\n",
    "print(frame.head())"
   ]
  },
  {
   "cell_type": "code",
   "execution_count": 74,
   "metadata": {},
   "outputs": [
    {
     "name": "stdout",
     "output_type": "stream",
     "text": [
      "Random Sample Before:\n",
      "33    7\n",
      "49    8\n",
      "42    5\n",
      "73    4\n",
      "23    9\n",
      "Name: month, dtype: object\n",
      "\n",
      "Random Sample After:\n",
      "47    12\n",
      "78    11\n",
      "55    01\n",
      "14    04\n",
      "30    02\n",
      "Name: month, dtype: object\n",
      "\n",
      "Count of cleaned: 100\n"
     ]
    }
   ],
   "source": [
    "frame.month = clean_two_digits_isolated(frame.month)"
   ]
  },
  {
   "cell_type": "code",
   "execution_count": 75,
   "metadata": {},
   "outputs": [
    {
     "name": "stdout",
     "output_type": "stream",
     "text": [
      "Random Sample Before:\n",
      "10    11\n",
      "56    04\n",
      "39    17\n",
      "76    31\n",
      "98    04\n",
      "Name: day, dtype: object\n",
      "\n",
      "Random Sample After:\n",
      "74    20\n",
      "32    14\n",
      "40    28\n",
      "50    22\n",
      "99    27\n",
      "Name: day, dtype: object\n",
      "\n",
      "Count of cleaned: 100\n"
     ]
    }
   ],
   "source": [
    "frame.day = clean_two_digits_isolated(frame.day)"
   ]
  },
  {
   "cell_type": "code",
   "execution_count": 76,
   "metadata": {},
   "outputs": [
    {
     "data": {
      "text/html": [
       "<div>\n",
       "<style>\n",
       "    .dataframe thead tr:only-child th {\n",
       "        text-align: right;\n",
       "    }\n",
       "\n",
       "    .dataframe thead th {\n",
       "        text-align: left;\n",
       "    }\n",
       "\n",
       "    .dataframe tbody tr th {\n",
       "        vertical-align: top;\n",
       "    }\n",
       "</style>\n",
       "<table border=\"1\" class=\"dataframe\">\n",
       "  <thead>\n",
       "    <tr style=\"text-align: right;\">\n",
       "      <th></th>\n",
       "      <th>month</th>\n",
       "      <th>day</th>\n",
       "      <th>year</th>\n",
       "    </tr>\n",
       "  </thead>\n",
       "  <tbody>\n",
       "    <tr>\n",
       "      <th>0</th>\n",
       "      <td>03</td>\n",
       "      <td>25</td>\n",
       "      <td>93</td>\n",
       "    </tr>\n",
       "    <tr>\n",
       "      <th>1</th>\n",
       "      <td>06</td>\n",
       "      <td>18</td>\n",
       "      <td>85</td>\n",
       "    </tr>\n",
       "    <tr>\n",
       "      <th>2</th>\n",
       "      <td>07</td>\n",
       "      <td>08</td>\n",
       "      <td>71</td>\n",
       "    </tr>\n",
       "    <tr>\n",
       "      <th>3</th>\n",
       "      <td>09</td>\n",
       "      <td>27</td>\n",
       "      <td>75</td>\n",
       "    </tr>\n",
       "    <tr>\n",
       "      <th>4</th>\n",
       "      <td>02</td>\n",
       "      <td>06</td>\n",
       "      <td>96</td>\n",
       "    </tr>\n",
       "  </tbody>\n",
       "</table>\n",
       "</div>"
      ],
      "text/plain": [
       "  month day year\n",
       "0    03  25   93\n",
       "1    06  18   85\n",
       "2    07  08   71\n",
       "3    09  27   75\n",
       "4    02  06   96"
      ]
     },
     "execution_count": 76,
     "metadata": {},
     "output_type": "execute_result"
    }
   ],
   "source": [
    "frame.head()"
   ]
  },
  {
   "cell_type": "code",
   "execution_count": 77,
   "metadata": {},
   "outputs": [
    {
     "name": "stdout",
     "output_type": "stream",
     "text": [
      "Random Sample Before:\n",
      "44    71\n",
      "32    81\n",
      "68    93\n",
      "84    83\n",
      "47    73\n",
      "Name: year, dtype: object\n",
      "\n",
      "Random Sample After:\n",
      "79    1992\n",
      "66    1978\n",
      "57    1989\n",
      "96    1996\n",
      "81    1982\n",
      "Name: year, dtype: object\n",
      "\n",
      "Count of cleaned: 100\n"
     ]
    }
   ],
   "source": [
    "frame.year = clean(frame.year, TWO_DIGITS, lambda match: \"19\" + match.group())"
   ]
  },
  {
   "cell_type": "code",
   "execution_count": 78,
   "metadata": {},
   "outputs": [
    {
     "name": "stdout",
     "output_type": "stream",
     "text": [
      "     match\n",
      "50   0        11/22/1975\n",
      "47   0        06/12/1994\n",
      "89   0        08/26/1989\n",
      "56   0        03/14/1995\n",
      "124  0        02/27/1996\n",
      "dtype: object\n"
     ]
    }
   ],
   "source": [
    "twentieth_cleaned = frame_to_series(frame, twentieth)"
   ]
  },
  {
   "cell_type": "code",
   "execution_count": 79,
   "metadata": {
    "collapsed": true
   },
   "outputs": [],
   "source": [
    "original = len(cleaned)\n",
    "cleaned = pd.concat([cleaned, twentieth_cleaned])"
   ]
  },
  {
   "cell_type": "code",
   "execution_count": 80,
   "metadata": {
    "collapsed": true
   },
   "outputs": [],
   "source": [
    "assert len(cleaned) == original + twentieth_count"
   ]
  },
  {
   "cell_type": "code",
   "execution_count": 81,
   "metadata": {},
   "outputs": [
    {
     "name": "stdout",
     "output_type": "stream",
     "text": [
      "    match\n",
      "14  0         5/24/1990\n",
      "15  0         1/25/2011\n",
      "17  0        10/13/1976\n",
      "24  0        07/25/1984\n",
      "30  0        03/31/1985\n",
      "Name: numeric, dtype: object\n"
     ]
    }
   ],
   "source": [
    "print(numeric.head())"
   ]
  },
  {
   "cell_type": "code",
   "execution_count": 82,
   "metadata": {},
   "outputs": [
    {
     "name": "stdout",
     "output_type": "stream",
     "text": [
      "Series([], Name: numeric, dtype: object)\n"
     ]
    }
   ],
   "source": [
    "has_dashes = numeric.str.contains(DASH)\n",
    "print(numeric[has_dashes])"
   ]
  },
  {
   "cell_type": "code",
   "execution_count": 84,
   "metadata": {},
   "outputs": [
    {
     "name": "stdout",
     "output_type": "stream",
     "text": [
      "  month day  year\n",
      "0     5  24  1990\n",
      "1     1  25  2011\n",
      "2    10  13  1976\n",
      "3    07  25  1984\n",
      "4    03  31  1985\n"
     ]
    }
   ],
   "source": [
    "frame = pd.DataFrame(numeric.str.split(SLASH).tolist(),\n",
    "                         columns=\"month day year\".split())\n",
    "print(frame.head())"
   ]
  },
  {
   "cell_type": "code",
   "execution_count": 85,
   "metadata": {},
   "outputs": [
    {
     "name": "stdout",
     "output_type": "stream",
     "text": [
      "Random Sample Before:\n",
      "6      7\n",
      "8      2\n",
      "7      4\n",
      "12    07\n",
      "15     7\n",
      "Name: month, dtype: object\n",
      "\n",
      "Random Sample After:\n",
      "19    12\n",
      "8     02\n",
      "22    02\n",
      "23    07\n",
      "11    08\n",
      "Name: month, dtype: object\n",
      "\n",
      "Count of cleaned: 25\n"
     ]
    }
   ],
   "source": [
    "frame.month = clean_two_digits_isolated(frame.month)"
   ]
  },
  {
   "cell_type": "code",
   "execution_count": 86,
   "metadata": {},
   "outputs": [
    {
     "name": "stdout",
     "output_type": "stream",
     "text": [
      "Random Sample Before:\n",
      "15    07\n",
      "6     27\n",
      "5     12\n",
      "24    27\n",
      "20    11\n",
      "Name: day, dtype: object\n",
      "\n",
      "Random Sample After:\n",
      "0     24\n",
      "22    11\n",
      "14    05\n",
      "19    08\n",
      "1     25\n",
      "Name: day, dtype: object\n",
      "\n",
      "Count of cleaned: 25\n"
     ]
    }
   ],
   "source": [
    "frame.day = clean_two_digits_isolated(frame.day)"
   ]
  },
  {
   "cell_type": "code",
   "execution_count": 87,
   "metadata": {},
   "outputs": [
    {
     "name": "stdout",
     "output_type": "stream",
     "text": [
      "    match\n",
      "38  0        07/27/1986\n",
      "82  0        07/07/1974\n",
      "64  0        07/29/1994\n",
      "59  0        08/20/1982\n",
      "17  0        10/13/1976\n",
      "dtype: object\n"
     ]
    }
   ],
   "source": [
    "numeric_cleaned = frame_to_series(frame, numeric)"
   ]
  },
  {
   "cell_type": "code",
   "execution_count": 89,
   "metadata": {},
   "outputs": [
    {
     "name": "stdout",
     "output_type": "stream",
     "text": [
      "500\n"
     ]
    }
   ],
   "source": [
    "original = len(cleaned)\n",
    "cleaned = pd.concat([cleaned, numeric_cleaned])\n",
    "assert len(cleaned) == original + numeric_count\n",
    "print(len(cleaned))"
   ]
  },
  {
   "cell_type": "code",
   "execution_count": 91,
   "metadata": {},
   "outputs": [
    {
     "name": "stdout",
     "output_type": "stream",
     "text": [
      "500\n",
      "    match\n",
      "14  0        05/24/1990\n",
      "15  0        01/25/2011\n",
      "17  0        10/13/1976\n",
      "24  0        07/25/1984\n",
      "30  0        03/31/1985\n",
      "dtype: object\n"
     ]
    }
   ],
   "source": [
    "cleaned = pd.concat([numeric_cleaned,\n",
    "                         twentieth_cleaned,\n",
    "                         words_cleaned,\n",
    "                         backwards_cleaned,\n",
    "                         no_day_cleaned,\n",
    "                         no_day_numeric_cleaned,\n",
    "                         year_only_cleaned,\n",
    "                         leftovers_cleaned,\n",
    "])\n",
    "print(len(cleaned))\n",
    "print(cleaned.head())\n",
    "assert len(cleaned) == len(df)"
   ]
  },
  {
   "cell_type": "code",
   "execution_count": 92,
   "metadata": {},
   "outputs": [
    {
     "name": "stdout",
     "output_type": "stream",
     "text": [
      "    match\n",
      "14  0        05/24/1990\n",
      "15  0        01/25/2011\n",
      "17  0        10/13/1976\n",
      "24  0        07/25/1984\n",
      "30  0        03/31/1985\n",
      "dtype: object\n",
      "    match\n",
      "14  0       1990-05-24\n",
      "15  0       2011-01-25\n",
      "17  0       1976-10-13\n",
      "24  0       1984-07-25\n",
      "30  0       1985-03-31\n",
      "dtype: datetime64[ns]\n"
     ]
    }
   ],
   "source": [
    "print(cleaned.head())\n",
    "datetimes = pd.to_datetime(cleaned, format=\"%m/%d/%Y\")\n",
    "print(datetimes.head())"
   ]
  },
  {
   "cell_type": "code",
   "execution_count": 93,
   "metadata": {},
   "outputs": [
    {
     "name": "stdout",
     "output_type": "stream",
     "text": [
      "    match\n",
      "9   0       1971-04-10\n",
      "84  0       1971-05-18\n",
      "2   0       1971-07-08\n",
      "53  0       1971-07-11\n",
      "28  0       1971-09-12\n",
      "dtype: datetime64[ns]\n"
     ]
    }
   ],
   "source": [
    "sorted_dates = datetimes.sort_values()\n",
    "print(sorted_dates.head())"
   ]
  },
  {
   "cell_type": "code",
   "execution_count": 94,
   "metadata": {},
   "outputs": [
    {
     "name": "stdout",
     "output_type": "stream",
     "text": [
      "     match\n",
      "231  0       2016-05-01\n",
      "141  0       2016-05-30\n",
      "186  0       2016-10-13\n",
      "161  0       2016-10-19\n",
      "413  0       2016-11-01\n",
      "dtype: datetime64[ns]\n"
     ]
    }
   ],
   "source": [
    "print(sorted_dates.tail())"
   ]
  },
  {
   "cell_type": "code",
   "execution_count": 95,
   "metadata": {},
   "outputs": [
    {
     "name": "stdout",
     "output_type": "stream",
     "text": [
      "0     9\n",
      "1    84\n",
      "2     2\n",
      "3    53\n",
      "4    28\n",
      "dtype: int16\n"
     ]
    }
   ],
   "source": [
    "answer = pd.Series(sorted_dates.index.labels[0])\n",
    "print(answer.head())"
   ]
  },
  {
   "cell_type": "code",
   "execution_count": 96,
   "metadata": {
    "collapsed": true
   },
   "outputs": [],
   "source": [
    "def date_sorter():\n",
    "    \n",
    "    # Your code here\n",
    "    \n",
    "    return answer"
   ]
  },
  {
   "cell_type": "code",
   "execution_count": 97,
   "metadata": {},
   "outputs": [
    {
     "data": {
      "text/plain": [
       "0        9\n",
       "1       84\n",
       "2        2\n",
       "3       53\n",
       "4       28\n",
       "5      474\n",
       "6      153\n",
       "7       13\n",
       "8      129\n",
       "9       98\n",
       "10     111\n",
       "11     225\n",
       "12      31\n",
       "13     171\n",
       "14     191\n",
       "15     486\n",
       "16     335\n",
       "17     415\n",
       "18      36\n",
       "19     323\n",
       "20     405\n",
       "21     422\n",
       "22     375\n",
       "23     380\n",
       "24     345\n",
       "25      57\n",
       "26     481\n",
       "27     436\n",
       "28     104\n",
       "29     299\n",
       "      ... \n",
       "470    220\n",
       "471    208\n",
       "472    243\n",
       "473    139\n",
       "474    320\n",
       "475    383\n",
       "476    244\n",
       "477    480\n",
       "478    286\n",
       "479    431\n",
       "480    279\n",
       "481    198\n",
       "482    463\n",
       "483    381\n",
       "484    366\n",
       "485    255\n",
       "486    439\n",
       "487    401\n",
       "488    475\n",
       "489    257\n",
       "490    152\n",
       "491    235\n",
       "492    464\n",
       "493    253\n",
       "494    427\n",
       "495    231\n",
       "496    141\n",
       "497    186\n",
       "498    161\n",
       "499    413\n",
       "Length: 500, dtype: int16"
      ]
     },
     "execution_count": 97,
     "metadata": {},
     "output_type": "execute_result"
    }
   ],
   "source": [
    "#date_sorter()"
   ]
  },
  {
   "cell_type": "code",
   "execution_count": null,
   "metadata": {
    "collapsed": true
   },
   "outputs": [],
   "source": []
  }
 ],
 "metadata": {
  "coursera": {
   "course_slug": "python-text-mining",
   "graded_item_id": "LvcWI",
   "launcher_item_id": "krne9",
   "part_id": "Mkp1I"
  },
  "kernelspec": {
   "display_name": "Python 3",
   "language": "python",
   "name": "python3"
  },
  "language_info": {
   "codemirror_mode": {
    "name": "ipython",
    "version": 3
   },
   "file_extension": ".py",
   "mimetype": "text/x-python",
   "name": "python",
   "nbconvert_exporter": "python",
   "pygments_lexer": "ipython3",
   "version": "3.6.2"
  }
 },
 "nbformat": 4,
 "nbformat_minor": 2
}
